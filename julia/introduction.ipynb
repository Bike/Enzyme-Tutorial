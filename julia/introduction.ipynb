{
 "cells": [
  {
   "cell_type": "markdown",
   "source": [
    "# Installing Enzyme\n",
    "\n",
    "Tutorial tested with Julia 1.7-beta3\n",
    "\n",
    "Using the Julia package manger:\n",
    "```julia\n",
    "import Pkg\n",
    "Pkg.add(\"Enzyme\")\n",
    "```"
   ],
   "metadata": {}
  },
  {
   "cell_type": "code",
   "execution_count": 8,
   "source": [
    "import Pkg\n",
    "Pkg.activate(; temp=true)\n",
    "Pkg.add(Pkg.PackageSpec(name=\"Enzyme\", rev=\"065224c0efa2d00d25605ec2aa8cb869440ee7ae\"))\n",
    "Pkg.add(\"BenchmarkTools\")\n",
    "Pkg.add(\"ForwardDiff\")"
   ],
   "outputs": [
    {
     "output_type": "stream",
     "name": "stdout",
     "text": [
      "\u001b[32m\u001b[1m  Activating\u001b[22m\u001b[39m new project at `/tmp/jl_BIgUFY`\n",
      "\u001b[32m\u001b[1m  Activating\u001b[22m\u001b[39m new project at `/tmp/jl_TL5neI`\n",
      "\u001b[32m\u001b[1m  Activating\u001b[22m\u001b[39m new project at `/tmp/jl_OZs6yZ`\n",
      "\u001b[32m\u001b[1m  Activating\u001b[22m\u001b[39m new project at `/tmp/jl_06qQBI`\n",
      "\u001b[32m\u001b[1m   Resolving\u001b[22m\u001b[39m package versions...\n",
      "\u001b[32m\u001b[1m    Updating\u001b[22m\u001b[39m `/tmp/jl_06qQBI/Project.toml`\n",
      " \u001b[90m [7da242da] \u001b[39m\u001b[92m+ Enzyme v0.7.0 `https://github.com/wsmoses/Enzyme.jl.git#065224c`\u001b[39m\n",
      "\u001b[32m\u001b[1m    Updating\u001b[22m\u001b[39m `/tmp/jl_06qQBI/Manifest.toml`\n",
      " \u001b[90m [79e6a3ab] \u001b[39m\u001b[92m+ Adapt v3.3.1\u001b[39m\n",
      " \u001b[90m [fa961155] \u001b[39m\u001b[92m+ CEnum v0.4.1\u001b[39m\n",
      " \u001b[90m [7da242da] \u001b[39m\u001b[92m+ Enzyme v0.7.0 `https://github.com/wsmoses/Enzyme.jl.git#065224c`\u001b[39m\n",
      " \u001b[90m [e2ba6199] \u001b[39m\u001b[92m+ ExprTools v0.1.6\u001b[39m\n",
      " \u001b[90m [61eb1bfa] \u001b[39m\u001b[92m+ GPUCompiler v0.13.7\u001b[39m\n",
      " \u001b[90m [692b3bcd] \u001b[39m\u001b[92m+ JLLWrappers v1.3.0\u001b[39m\n",
      " \u001b[90m [929cbde3] \u001b[39m\u001b[92m+ LLVM v4.6.0\u001b[39m\n",
      " \u001b[90m [d8793406] \u001b[39m\u001b[92m+ ObjectFile v0.3.7\u001b[39m\n",
      " \u001b[90m [21216c6a] \u001b[39m\u001b[92m+ Preferences v1.2.2\u001b[39m\n",
      " \u001b[90m [189a3867] \u001b[39m\u001b[92m+ Reexport v1.2.2\u001b[39m\n",
      " \u001b[90m [53d494c1] \u001b[39m\u001b[92m+ StructIO v0.3.0\u001b[39m\n",
      " \u001b[90m [a759f4b9] \u001b[39m\u001b[92m+ TimerOutputs v0.5.13\u001b[39m\n",
      " \u001b[90m [7cc45869] \u001b[39m\u001b[92m+ Enzyme_jll v0.0.21+0\u001b[39m\n",
      " \u001b[90m [dad2f222] \u001b[39m\u001b[92m+ LLVMExtra_jll v0.0.11+0\u001b[39m\n",
      " \u001b[90m [0dad84c5] \u001b[39m\u001b[92m+ ArgTools\u001b[39m\n",
      " \u001b[90m [56f22d72] \u001b[39m\u001b[92m+ Artifacts\u001b[39m\n",
      " \u001b[90m [2a0f44e3] \u001b[39m\u001b[92m+ Base64\u001b[39m\n",
      " \u001b[90m [ade2ca70] \u001b[39m\u001b[92m+ Dates\u001b[39m\n",
      " \u001b[90m [f43a241f] \u001b[39m\u001b[92m+ Downloads\u001b[39m\n",
      " \u001b[90m [b77e0a4c] \u001b[39m\u001b[92m+ InteractiveUtils\u001b[39m\n",
      " \u001b[90m [b27032c2] \u001b[39m\u001b[92m+ LibCURL\u001b[39m\n",
      " \u001b[90m [76f85450] \u001b[39m\u001b[92m+ LibGit2\u001b[39m\n",
      " \u001b[90m [8f399da3] \u001b[39m\u001b[92m+ Libdl\u001b[39m\n",
      " \u001b[90m [37e2e46d] \u001b[39m\u001b[92m+ LinearAlgebra\u001b[39m\n",
      " \u001b[90m [56ddb016] \u001b[39m\u001b[92m+ Logging\u001b[39m\n",
      " \u001b[90m [d6f4376e] \u001b[39m\u001b[92m+ Markdown\u001b[39m\n",
      " \u001b[90m [ca575930] \u001b[39m\u001b[92m+ NetworkOptions\u001b[39m\n",
      " \u001b[90m [44cfe95a] \u001b[39m\u001b[92m+ Pkg\u001b[39m\n",
      " \u001b[90m [de0858da] \u001b[39m\u001b[92m+ Printf\u001b[39m\n",
      " \u001b[90m [3fa0cd96] \u001b[39m\u001b[92m+ REPL\u001b[39m\n",
      " \u001b[90m [9a3f8284] \u001b[39m\u001b[92m+ Random\u001b[39m\n",
      " \u001b[90m [ea8e919c] \u001b[39m\u001b[92m+ SHA\u001b[39m\n",
      " \u001b[90m [9e88b42a] \u001b[39m\u001b[92m+ Serialization\u001b[39m\n",
      " \u001b[90m [6462fe0b] \u001b[39m\u001b[92m+ Sockets\u001b[39m\n",
      " \u001b[90m [fa267f1f] \u001b[39m\u001b[92m+ TOML\u001b[39m\n",
      " \u001b[90m [a4e569a6] \u001b[39m\u001b[92m+ Tar\u001b[39m\n",
      " \u001b[90m [8dfed614] \u001b[39m\u001b[92m+ Test\u001b[39m\n",
      " \u001b[90m [cf7118a7] \u001b[39m\u001b[92m+ UUIDs\u001b[39m\n",
      " \u001b[90m [4ec0a83e] \u001b[39m\u001b[92m+ Unicode\u001b[39m\n",
      " \u001b[90m [e66e0078] \u001b[39m\u001b[92m+ CompilerSupportLibraries_jll\u001b[39m\n",
      " \u001b[90m [deac9b47] \u001b[39m\u001b[92m+ LibCURL_jll\u001b[39m\n",
      " \u001b[90m [29816b5a] \u001b[39m\u001b[92m+ LibSSH2_jll\u001b[39m\n",
      " \u001b[90m [c8ffd9c3] \u001b[39m\u001b[92m+ MbedTLS_jll\u001b[39m\n",
      " \u001b[90m [14a3606d] \u001b[39m\u001b[92m+ MozillaCACerts_jll\u001b[39m\n",
      " \u001b[90m [4536629a] \u001b[39m\u001b[92m+ OpenBLAS_jll\u001b[39m\n",
      " \u001b[90m [83775a58] \u001b[39m\u001b[92m+ Zlib_jll\u001b[39m\n",
      " \u001b[90m [8e850b90] \u001b[39m\u001b[92m+ libblastrampoline_jll\u001b[39m\n",
      " \u001b[90m [8e850ede] \u001b[39m\u001b[92m+ nghttp2_jll\u001b[39m\n",
      " \u001b[90m [3f19e933] \u001b[39m\u001b[92m+ p7zip_jll\u001b[39m\n"
     ]
    }
   ],
   "metadata": {}
  },
  {
   "cell_type": "code",
   "execution_count": 9,
   "source": [
    "using Enzyme"
   ],
   "outputs": [],
   "metadata": {}
  },
  {
   "cell_type": "markdown",
   "source": [
    "# Activity annotations\n",
    "- `Const`\n",
    "- `Active`\n",
    "- `Duplicated`\n",
    "- `DuplicatedNoNeed`"
   ],
   "metadata": {}
  },
  {
   "cell_type": "code",
   "execution_count": null,
   "source": [
    "square(x) = x^2"
   ],
   "outputs": [],
   "metadata": {}
  },
  {
   "cell_type": "code",
   "execution_count": null,
   "source": [
    "autodiff(square, 1.0)"
   ],
   "outputs": [],
   "metadata": {}
  },
  {
   "cell_type": "markdown",
   "source": [
    "Default activity for values is `Const`"
   ],
   "metadata": {}
  },
  {
   "cell_type": "code",
   "execution_count": null,
   "source": [
    "autodiff(square, Const(1.0))"
   ],
   "outputs": [],
   "metadata": {}
  },
  {
   "cell_type": "code",
   "execution_count": null,
   "source": [
    "autodiff(square, Active(1.0))"
   ],
   "outputs": [],
   "metadata": {}
  },
  {
   "cell_type": "markdown",
   "source": [
    "## Supporting mutating functions\n",
    "\n",
    "Enzyme can differentiate through mutating functions. This requires that the users passes in the shadow variables with the `Duplicated` or `DuplicatedNoNeed` activity annotation."
   ],
   "metadata": {}
  },
  {
   "cell_type": "code",
   "execution_count": null,
   "source": [
    "function cube(y, x)\n",
    "\ty[] = x[]^3\n",
    "\treturn nothing\n",
    "end"
   ],
   "outputs": [],
   "metadata": {}
  },
  {
   "cell_type": "code",
   "execution_count": null,
   "source": [
    "let\n",
    "\tx = Ref(4.0)\n",
    "\ty = Ref(0.0)\n",
    "\tcube(y, x)\n",
    "\ty[]\n",
    "end"
   ],
   "outputs": [],
   "metadata": {}
  },
  {
   "cell_type": "markdown",
   "source": [
    "\n",
    "In order to calculate the gradient of `x`, we have to propagate `1.0` into the\n",
    "shadow `dy`.\n"
   ],
   "metadata": {}
  },
  {
   "cell_type": "code",
   "execution_count": null,
   "source": [
    "\n",
    "x = Ref(4.0)\n",
    "dx = Ref(0.0)\n",
    "\n",
    "y = Ref(0.0)\n",
    "dy = Ref(1.0)\n",
    "\n",
    "autodiff(cube, Duplicated(y, dy), Duplicated(x, dx))\n",
    "y[], dy[], x[], dx[]"
   ],
   "outputs": [],
   "metadata": {}
  },
  {
   "cell_type": "markdown",
   "source": [
    "# Reflection"
   ],
   "metadata": {}
  },
  {
   "cell_type": "code",
   "execution_count": null,
   "source": [
    "\n",
    "Enzyme.Compiler.enzyme_code_llvm(cube,\n",
    "\tTuple{Enzyme.Duplicated{Base.RefValue{Float64}}, \n",
    "\tDuplicated{Base.RefValue{Float64}}}, debuginfo=:none)\n",
    "\n"
   ],
   "outputs": [],
   "metadata": {}
  },
  {
   "cell_type": "markdown",
   "source": [
    "# Differentiating through control-flow\n",
    "Let's differentiate through some control flow. This kind of scalar code is where normally one would use `ForwardDiff.jl` since the machine learning optimized toolkits like Zygote have unacceptable overheads."
   ],
   "metadata": {}
  },
  {
   "cell_type": "code",
   "execution_count": null,
   "source": [
    "# Taylor series for `-log(1-x)`\n",
    "# eval at -log(1-1/2) = -log(1/2)\n",
    "function taylor(f::T, N=10^7) where T\n",
    "    g = zero(T)\n",
    "    for i in 1:N\n",
    "        g += f^i / i\n",
    "    end\n",
    "    return g\n",
    "end\n",
    "\n",
    "autodiff(taylor, Active(0.5), Const(10^8))\n"
   ],
   "outputs": [],
   "metadata": {}
  },
  {
   "cell_type": "code",
   "execution_count": null,
   "source": [
    "fwd_taylor(x) = ForwardDiff.derivative(taylor, 0.5)\n",
    "\n",
    "enz_taylor(x) = autodiff(taylor, Active(x))\n"
   ],
   "outputs": [],
   "metadata": {}
  },
  {
   "cell_type": "code",
   "execution_count": null,
   "source": [
    "\n",
    "@benchmark fwd_taylor($(Ref(0.5))[])"
   ],
   "outputs": [],
   "metadata": {}
  },
  {
   "cell_type": "code",
   "execution_count": null,
   "source": [
    "\n",
    "@benchmark enz_taylor($(Ref(0.5))[])"
   ],
   "outputs": [],
   "metadata": {}
  },
  {
   "cell_type": "markdown",
   "source": [
    "\n",
    "# Differentiating through more complicated codes\n",
    "\n",
    "## A custom matrix multiply"
   ],
   "metadata": {}
  },
  {
   "cell_type": "code",
   "execution_count": null,
   "source": [
    "\n",
    "function mymul!(R, A, B)\n",
    "    @assert axes(A,2) == axes(B,1)\n",
    "    @inbounds @simd for i in eachindex(R)\n",
    "        R[i] = 0\n",
    "    end\n",
    "    @inbounds for j in axes(B, 2), i in axes(A, 1)\n",
    "        @inbounds @simd for k in axes(A,2)\n",
    "            R[i,j] += A[i,k] * B[k,j]\n",
    "        end\n",
    "    end\n",
    "    nothing\n",
    "end"
   ],
   "outputs": [],
   "metadata": {}
  },
  {
   "cell_type": "code",
   "execution_count": null,
   "source": [
    "A = rand(1024, 64)\n",
    "B = rand(64, 512)\n",
    "\n",
    "R = zeros(size(A,1), size(B,2))\n",
    "∂z_∂R = rand(size(R)...)  # Some gradient/tangent passed to us\n",
    "\n",
    "∂z_∂A = zero(A)\n",
    "∂z_∂B = zero(B)\n",
    "\n",
    "Enzyme.autodiff(mymul!, \n",
    "\tDuplicated(R, ∂z_∂R),\n",
    "\tDuplicated(A, ∂z_∂A),\n",
    "\tDuplicated(B, ∂z_∂B))"
   ],
   "outputs": [],
   "metadata": {}
  },
  {
   "cell_type": "markdown",
   "source": [
    "\n",
    "Let's confirm correctness of result"
   ],
   "metadata": {}
  },
  {
   "cell_type": "code",
   "execution_count": null,
   "source": [
    "R ≈ A * B"
   ],
   "outputs": [],
   "metadata": {}
  },
  {
   "cell_type": "markdown",
   "source": [
    "and correctness of the gradients"
   ],
   "metadata": {}
  },
  {
   "cell_type": "code",
   "execution_count": null,
   "source": [
    "∂z_∂A ≈ ∂z_∂R * B'"
   ],
   "outputs": [],
   "metadata": {}
  },
  {
   "cell_type": "code",
   "execution_count": null,
   "source": [
    "# Some more fun"
   ],
   "outputs": [],
   "metadata": {}
  },
  {
   "cell_type": "code",
   "execution_count": null,
   "source": [
    "\n",
    "struct LList\n",
    "    next::Union{LList,Nothing}\n",
    "\tval::Float64\n",
    "end \n",
    "\n",
    "function sumlist(n::LList)\n",
    "    sum = 0.0\n",
    "    while n !== nothing\n",
    "        sum += n.val\n",
    "        n = n.next\n",
    "    end\n",
    "    sum\n",
    "end"
   ],
   "outputs": [],
   "metadata": {}
  },
  {
   "cell_type": "code",
   "execution_count": null,
   "source": [
    "\n",
    "regular = LList(LList(nothing, 1.0), 2.0)\n",
    "shadow  = LList(LList(nothing, 0.0), 0.0)\n",
    "autodiff(sumlist, Duplicated(regular, shadow))"
   ],
   "outputs": [],
   "metadata": {}
  },
  {
   "cell_type": "code",
   "execution_count": null,
   "source": [
    "shadow.val ≈ 1.0"
   ],
   "outputs": [],
   "metadata": {}
  },
  {
   "cell_type": "code",
   "execution_count": null,
   "source": [
    "shadow.next.val ≈ 1.0"
   ],
   "outputs": [],
   "metadata": {}
  }
 ],
 "metadata": {
  "orig_nbformat": 4,
  "language_info": {
   "name": "python"
  }
 },
 "nbformat": 4,
 "nbformat_minor": 2
}